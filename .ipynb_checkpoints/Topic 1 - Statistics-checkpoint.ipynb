{
 "cells": [
  {
   "cell_type": "markdown",
   "id": "131bcfd2",
   "metadata": {},
   "source": [
    "<h1 style=\"font-size:3rem;color:rgb(0, 91, 94);text-align:center;\">Topic 1 - Statistics</h1>\n",
    "<hr style=\\\"border-top: 1px solid rgb(0, 91, 94);\\\" />"
   ]
  },
  {
   "cell_type": "markdown",
   "id": "1cd07897",
   "metadata": {},
   "source": [
    "<h2 style=\"color:rgb(0, 91, 94)\">Exercise 1</h2>\n",
    "<hr style=\\\"border-top: 1px solid rgb(0, 91, 94);\\\" />"
   ]
  },
  {
   "cell_type": "markdown",
   "id": "6aad0e3a",
   "metadata": {},
   "source": [
    "The above gives about a 1.5% chance of randomly selecting the correct cups. Calculate the minimum number of cups of tea required to ensure the probability of randomly selecting the correct cups is less than or equal to 1%."
   ]
  },
  {
   "cell_type": "markdown",
   "id": "ea76aec9",
   "metadata": {},
   "source": [
    "10 cups of tea (5 cups with milk in them first, 5 cups with tea in them first) would be the minimum number of cups of tea required to ensure the probability of randomly selecting the correct cups is less than or equal to 1%, while maintaining equal numbers in both groups.\n",
    "\n",
    "(If 9 cups of tea were used the probability of randomly selecting the correct cups would be 0.007936507936507936, however, \n",
    "there would be an uneven split of tea cup variants, i.e. 4 cups with milk in them first, 5 cups with tea in them first, thus resulting in increased odds of selecting a cup with tea in it first during the experiment, thus calling into question the vailidity of the results)\n",
    "\n",
    "With 10 cups of tea split 50/50 the the probability of randomly selecting the correct cups is 0.003968253968253968 (or ~0.4%)"
   ]
  },
  {
   "cell_type": "code",
   "execution_count": 91,
   "id": "6972b1c3",
   "metadata": {},
   "outputs": [
    {
     "name": "stdout",
     "output_type": "stream",
     "text": [
      "When 10 cups of tea are used, the probability of randomly selecting the correct 5 cups is: 0.003968253968253968 or 0.4%\n"
     ]
    }
   ],
   "source": [
    "import itertools\n",
    "\n",
    "x = 10\n",
    "split = 5\n",
    "\n",
    "cups = list(range(x))\n",
    "\n",
    "poss = list(itertools.combinations(cups, split))\n",
    "possibilities = len(poss)\n",
    "\n",
    "chance = 1/possibilities\n",
    "print(f\"When {x} cups of tea are used, the probability of randomly selecting the correct {split} cups is: {chance} or {round(chance*100, 1)}%\")"
   ]
  },
  {
   "cell_type": "markdown",
   "id": "d091fdc6",
   "metadata": {},
   "source": [
    "Bonus: How many would be required if you were to let the taster get one cup wrong while maintaining the 1% threshold?"
   ]
  },
  {
   "cell_type": "markdown",
   "id": "dcb2d581",
   "metadata": {},
   "source": [
    "16 cups of tea (8 cups with milk in them first, 8 cups with tea in them first) would be the minimum number of cups of tea required to ensure the probability of randomly selecting the correct cups is less than or equal to 1%, while maintaining equal numbers in both groups and allowing the taster to select one wrong cup."
   ]
  },
  {
   "cell_type": "code",
   "execution_count": 93,
   "id": "46dffaa4",
   "metadata": {},
   "outputs": [
    {
     "name": "stdout",
     "output_type": "stream",
     "text": [
      "Number of possible outcomes: 12870\n",
      "Number of outcomes with correct output: 1\n",
      "Number of outcomes with one mistake allowed: 64\n",
      "Probability = 65 / 12870\n",
      "When 16 cups of tea are used, the probability of randomly selecting the correct 8 cups (allowing for 1 mistake) is: 0.005050505050505051 or 0.5%\n"
     ]
    },
    {
     "data": {
      "image/png": "[encoded data removed]",
      "text/plain": [
       "<Figure size 640x480 with 1 Axes>"
      ]
     },
     "metadata": {},
     "output_type": "display_data"
    }
   ],
   "source": [
    "import itertools\n",
    "import random\n",
    "import seaborn as sns\n",
    "\n",
    "# where x = number of cups of tea and split = the size of differing groups\n",
    "x = 16\n",
    "split = 8\n",
    "\n",
    "cups = list(range(x))\n",
    "\n",
    "poss = list(itertools.combinations(cups, split))\n",
    "possibilities = len(poss)\n",
    "print(f\"Number of possible outcomes: {possibilities}\")\n",
    "\n",
    "\n",
    "# Pick a random correct answer from the list of 70 to simulate the experiment.\n",
    "milkfirst = set(random.choice(poss))\n",
    "\n",
    "# Count the overlap between the correct answer, and each of the 70 possiblities.\n",
    "counts = [len(milkfirst & set(i)) for i in itertools.combinations(cups, split)]\n",
    "\n",
    "almost_right = []\n",
    "for i in counts:\n",
    "    if i == split - 1:\n",
    "        almost_right.append(i)\n",
    "# calculate the number of outcomes where the participant almost got the correct outcome + the one instance of achieving the correct outcome\n",
    "chance = len(almost_right) + 1\n",
    "print(f\"Number of outcomes with correct output: 1\")\n",
    "print(f\"Number of outcomes with one mistake allowed: {len(almost_right)}\")\n",
    "print(f\"Probability = {chance} / {possibilities}\")\n",
    "\n",
    "# Creat the plot.\n",
    "sns.countplot(x=counts)\n",
    "\n",
    "\n",
    "\n",
    "probability = chance/possibilities\n",
    "print(f\"When {x} cups of tea are used, the probability of randomly selecting the correct {split} cups (allowing for 1 mistake) is: {probability} or {round(probability*100, 1)}%\")"
   ]
  },
  {
   "cell_type": "code",
   "execution_count": null,
   "id": "6032b87e",
   "metadata": {},
   "outputs": [],
   "source": []
  }
 ],
 "metadata": {
  "kernelspec": {
   "display_name": "Python 3 (ipykernel)",
   "language": "python",
   "name": "python3"
  },
  "language_info": {
   "codemirror_mode": {
    "name": "ipython",
    "version": 3
   },
   "file_extension": ".py",
   "mimetype": "text/x-python",
   "name": "python",
   "nbconvert_exporter": "python",
   "pygments_lexer": "ipython3",
   "version": "3.9.13"
  }
 },
 "nbformat": 4,
 "nbformat_minor": 5
}
