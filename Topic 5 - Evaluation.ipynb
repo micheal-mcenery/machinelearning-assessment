{
 "cells": [
  {
   "cell_type": "markdown",
   "id": "351f187b",
   "metadata": {},
   "source": [
    "<h1 style=\"font-size:3rem;color:rgb(0, 91, 94);text-align:center;\">Topic 5 - Evaluation</h1>\n",
    "<hr style=\\\"border-top: 1px solid rgb(0, 91, 94);\\\" />"
   ]
  },
  {
   "cell_type": "markdown",
   "id": "c11d9617",
   "metadata": {},
   "source": [
    "### Overview\n",
    "\n",
    "Below is a general overview of the topic:\n",
    "\n",
    "This topic focuses on outlining the main concepts behind the time-series anomaly detection project. For more detail, please see the Keras notebook.\n"
   ]
  }
 ],
 "metadata": {
  "kernelspec": {
   "display_name": "Python 3 (ipykernel)",
   "language": "python",
   "name": "python3"
  },
  "language_info": {
   "codemirror_mode": {
    "name": "ipython",
    "version": 3
   },
   "file_extension": ".py",
   "mimetype": "text/x-python",
   "name": "python",
   "nbconvert_exporter": "python",
   "pygments_lexer": "ipython3",
   "version": "3.9.13"
  }
 },
 "nbformat": 4,
 "nbformat_minor": 5
}
